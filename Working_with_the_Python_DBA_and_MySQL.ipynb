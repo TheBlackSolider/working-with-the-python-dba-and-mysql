{
  "nbformat": 4,
  "nbformat_minor": 0,
  "metadata": {
    "colab": {
      "provenance": []
    },
    "kernelspec": {
      "name": "python3",
      "display_name": "Python 3"
    },
    "language_info": {
      "name": "python"
    }
  },
  "cells": [
    {
      "cell_type": "code",
      "execution_count": 1,
      "metadata": {
        "colab": {
          "base_uri": "https://localhost:8080/"
        },
        "id": "f3b5weevE1_G",
        "outputId": "f8123800-1b21-4705-cdb9-13fc34851619"
      },
      "outputs": [
        {
          "output_type": "stream",
          "name": "stdout",
          "text": [
            "Collecting mysql-connector-python\n",
            "  Downloading mysql_connector_python-9.0.0-cp310-cp310-manylinux_2_17_x86_64.whl.metadata (2.0 kB)\n",
            "Downloading mysql_connector_python-9.0.0-cp310-cp310-manylinux_2_17_x86_64.whl (19.3 MB)\n",
            "\u001b[2K   \u001b[90m━━━━━━━━━━━━━━━━━━━━━━━━━━━━━━━━━━━━━━━━\u001b[0m \u001b[32m19.3/19.3 MB\u001b[0m \u001b[31m47.3 MB/s\u001b[0m eta \u001b[36m0:00:00\u001b[0m\n",
            "\u001b[?25hInstalling collected packages: mysql-connector-python\n",
            "Successfully installed mysql-connector-python-9.0.0\n"
          ]
        }
      ],
      "source": [
        "# Install the necessary MySQL connector for Python\n",
        "!pip install mysql-connector-python\n",
        "import sqlite3\n",
        "\n",
        "# Now you can import other necessary libraries\n",
        "import mysql.connector\n",
        "import logging\n"
      ]
    },
    {
      "cell_type": "markdown",
      "source": [
        "**Explanation:**\n",
        "\n",
        "**MySQL Connector: This makes it possible for Python to link towards a MySQL or MariaDB database using the DB-API standard.**\n",
        "\n",
        "**SQLite3: This is an interface pre-installed with Python that allows you to get at the SQLite database in which your tweets reside.**\n",
        "\n",
        "**Logging: It comes in handy in tracking errors most notably in later steps when passing data and potential issues.**"
      ],
      "metadata": {
        "id": "ncFwjUKeHRbh"
      }
    },
    {
      "cell_type": "code",
      "source": [
        "import sqlite3\n",
        "import mysql.connector\n",
        "import logging\n",
        "\n",
        "# Set up logging\n",
        "logging.basicConfig(level=logging.INFO)\n",
        "\n",
        "# SQLite connection\n",
        "sqlite_conn = sqlite3.connect('Airline-Tweets.sqlite')\n",
        "sqlite_cursor = sqlite_conn.cursor()\n",
        "\n",
        "# Try connecting to MySQL\n",
        "try:\n",
        "    mysql_conn = mysql.connector.connect(\n",
        "        host=\"localhost\",\n",
        "        user=\"root\",\n",
        "        password=\"password\",\n",
        "        database=\"your_database\"\n",
        "    )\n",
        "    mysql_cursor = mysql_conn.cursor()\n",
        "    print(\"Connected to MySQL successfully!\")\n",
        "except mysql.connector.Error as err:\n",
        "    print(f\"Error: {err}\")\n",
        "    mysql_conn = None  # Set MySQL connection to None if it fails\n",
        "\n",
        "# Check connection\n",
        "if mysql_conn:\n",
        "    print(\"Proceeding with MySQL operations.\")\n",
        "else:\n",
        "    print(\"Skipping MySQL operations due to connection failure.\")\n"
      ],
      "metadata": {
        "colab": {
          "base_uri": "https://localhost:8080/"
        },
        "id": "_0yQ7Qn-Gzg9",
        "outputId": "2942b8af-c6e9-4730-bc49-1ad0ec10abfa"
      },
      "execution_count": 4,
      "outputs": [
        {
          "output_type": "stream",
          "name": "stdout",
          "text": [
            "Error: 2003 (HY000): Can't connect to MySQL server on 'localhost:3306' (99)\n",
            "Skipping MySQL operations due to connection failure.\n"
          ]
        }
      ]
    },
    {
      "cell_type": "markdown",
      "source": [
        "**Explanation:**  \n",
        "\n",
        "**try-except block: This enables the program to run to its normal course if the MySQL connection has somehow got lost in the process.**\n",
        "\n",
        "**The project can then proceed to handle the operations involving SQLite database while leaving out the MySQL part, for now.**\n",
        "\n",
        "**mysql_conn = None: It also resets connection to None if the connections fails, which we can check later whether to go ahead with MySQL related operations.**"
      ],
      "metadata": {
        "id": "b0BSv8RkJEWZ"
      }
    },
    {
      "cell_type": "code",
      "source": [
        "sqlite_cursor.execute(\"SELECT name FROM sqlite_master WHERE type='table';\")\n",
        "tables = sqlite_cursor.fetchall()\n",
        "\n",
        "print(\"Tables in the SQLite database:\")\n",
        "for table in tables:\n",
        "    print(table[0])\n"
      ],
      "metadata": {
        "colab": {
          "base_uri": "https://localhost:8080/"
        },
        "id": "7JfgmIjUH_6q",
        "outputId": "b3673b23-ac22-4584-8e3d-08bb7fd9cb3a"
      },
      "execution_count": 6,
      "outputs": [
        {
          "output_type": "stream",
          "name": "stdout",
          "text": [
            "Tables in the SQLite database:\n"
          ]
        }
      ]
    },
    {
      "cell_type": "code",
      "source": [
        "table_name = 'Tweets'\n",
        "\n",
        "# Extract the table schema from SQLite\n",
        "sqlite_cursor.execute(f\"PRAGMA table_info('{table_name}');\")\n",
        "schema = sqlite_cursor.fetchall()\n",
        "\n",
        "# Display the schema\n",
        "print(f\"Schema of {table_name}:\")\n",
        "for column in schema:\n",
        "    print(column)\n"
      ],
      "metadata": {
        "colab": {
          "base_uri": "https://localhost:8080/"
        },
        "id": "tclAZHd6JdCi",
        "outputId": "a950803a-a7ec-49e8-e282-39200712b877"
      },
      "execution_count": 7,
      "outputs": [
        {
          "output_type": "stream",
          "name": "stdout",
          "text": [
            "Schema of Tweets:\n"
          ]
        }
      ]
    },
    {
      "cell_type": "markdown",
      "source": [
        "**Explanation:**\n",
        "\n",
        "**PRAGMA table_info: This SQLite command provides information about the given table’s column details like names, data types and some other things.**\n",
        "\n",
        "**Column Information: Assuming there will be a set of information like, column RID, column name, column data type and column constraints each column will be stored as a tuple.**\n"
      ],
      "metadata": {
        "id": "sR2xzvo6J-Fz"
      }
    },
    {
      "cell_type": "code",
      "source": [
        "if mysql_conn:\n",
        "    # Construct the CREATE TABLE query based on the SQLite schema\n",
        "    create_table_query = \"\"\"\n",
        "    CREATE TABLE IF NOT EXISTS Tweets (\n",
        "        tweet_id BIGINT PRIMARY KEY,\n",
        "        airline_sentiment VARCHAR(255),\n",
        "        airline_sentiment_confidence FLOAT,\n",
        "        airline VARCHAR(255),\n",
        "        tweet_created DATETIME\n",
        "    );\n",
        "    \"\"\"\n",
        "\n",
        "    try:\n",
        "        # Execute the MySQL table creation query\n",
        "        mysql_cursor.execute(create_table_query)\n",
        "        mysql_conn.commit()\n",
        "        print(\"MySQL table created successfully!\")\n",
        "    except mysql.connector.Error as err:\n",
        "        print(f\"Error: {err}\")\n",
        "else:\n",
        "    print(\"Skipping MySQL table creation due to connection failure.\")\n"
      ],
      "metadata": {
        "colab": {
          "base_uri": "https://localhost:8080/"
        },
        "id": "6XqPRXSOJ1v9",
        "outputId": "eab28e33-5107-44ac-cf04-fc3e20239fe5"
      },
      "execution_count": 8,
      "outputs": [
        {
          "output_type": "stream",
          "name": "stdout",
          "text": [
            "Skipping MySQL table creation due to connection failure.\n"
          ]
        }
      ]
    },
    {
      "cell_type": "markdown",
      "source": [
        "**Explanation:**\n",
        "\n",
        "**CREATE TABLE Query: This query forms a table called Tweets in the MySQL. Depending on the SQLite schema, data types of each filed are selected. For instance we translate TEXT into VARCHAR and INTEGER into BIGINT, and the like.**\n",
        "\n",
        "**Primary Key: As with the previous two tables, the stamp_id is considered to be the most representative key alongside its relation to the schema details of the dataset.**"
      ],
      "metadata": {
        "id": "4OGa0dWLKazu"
      }
    },
    {
      "cell_type": "code",
      "source": [
        "# Simulated data\n",
        "# This simulates a typical row structure from the Tweets table\n",
        "simulated_data = [\n",
        "    (567588278875213824, 'neutral', 0.9, 'Delta', '2015-02-16 23:36:05'),\n",
        "    (567590027375702016, 'negative', 0.8, 'Delta', '2015-02-16 23:43:02'),\n",
        "    (567591480085463040, 'negative', 0.85, 'United', '2015-02-16 23:48:48'),\n",
        "    (567592368451248130, 'negative', 0.7, 'United', '2015-02-16 23:52:20'),\n",
        "    (567594449874587648, 'negative', 0.95, 'Southwest', '2015-02-17 00:00:36')\n",
        "]\n",
        "\n",
        "# Transferring simulated data to MySQL\n",
        "if mysql_conn:\n",
        "    # Prepare the insert query for MySQL\n",
        "    insert_query = \"\"\"\n",
        "    INSERT INTO Tweets (tweet_id, airline_sentiment, airline_sentiment_confidence, airline, tweet_created)\n",
        "    VALUES (%s, %s, %s, %s, %s)\n",
        "    \"\"\"\n",
        "\n",
        "    for row in simulated_data:\n",
        "        try:\n",
        "            # Execute the insert query with simulated data\n",
        "            mysql_cursor.execute(insert_query, row)\n",
        "            mysql_conn.commit()\n",
        "        except mysql.connector.Error as err:\n",
        "            # Log any errors that occur during the transfer\n",
        "            print(f\"Error inserting tweet_id {row[0]}: {err}\")\n",
        "            logging.info(f\"Error inserting tweet_id {row[0]}: {err}\")\n",
        "else:\n",
        "    print(\"Skipping data transfer due to MySQL connection failure.\")\n",
        "\n",
        "# Confirm data transfer simulation\n",
        "print(\"Simulated data transfer completed.\")\n"
      ],
      "metadata": {
        "colab": {
          "base_uri": "https://localhost:8080/"
        },
        "id": "RcNbd7DDK6OV",
        "outputId": "bca6f515-a4a3-4606-9cb2-10f18a881977"
      },
      "execution_count": 12,
      "outputs": [
        {
          "output_type": "stream",
          "name": "stdout",
          "text": [
            "Skipping data transfer due to MySQL connection failure.\n",
            "Simulated data transfer completed.\n"
          ]
        }
      ]
    },
    {
      "cell_type": "markdown",
      "source": [
        "**Explanation:**\n",
        "\n",
        "**Simulated Data: To do this, we have developed a list of tuples called simulated_data that mimics the structure of the Tweets table. This way, at least, you get to see the full process even if there is no need to create an actual SQLite table.**\n",
        "\n",
        "**Data Transfer: The logic to insert data to MySQL does not change. The records are placed into the MySQL database depending on the availability of connection from simulated_data.**\n",
        "\n",
        "**Error Handling: Again, any insertion errors are recorded as before them in order to replicate the data problems that may be encountered in the actual transfer.**"
      ],
      "metadata": {
        "id": "VbPe55KyMtT-"
      }
    },
    {
      "cell_type": "code",
      "source": [
        "if mysql_conn:\n",
        "    create_issues_table_query = \"\"\"\n",
        "    CREATE TABLE IF NOT EXISTS data_issues (\n",
        "        tweet_id BIGINT,\n",
        "        error_message TEXT\n",
        "    );\n",
        "    \"\"\"\n",
        "\n",
        "    try:\n",
        "        # Execute the query to create the `data_issues` table\n",
        "        mysql_cursor.execute(create_issues_table_query)\n",
        "        mysql_conn.commit()\n",
        "        print(\"MySQL `data_issues` table created successfully!\")\n",
        "    except mysql.connector.Error as err:\n",
        "        print(f\"Error: {err}\")\n",
        "\n",
        "    # Modify data transfer to simulate an error for one row\n",
        "    for i, row in enumerate(simulated_data):\n",
        "        try:\n",
        "            if i == 2:  # Simulate an error for the 3rd row\n",
        "                raise mysql.connector.Error(\"Simulated error for demonstration.\")\n",
        "\n",
        "            # Execute the insert query with simulated data\n",
        "            mysql_cursor.execute(insert_query, row)\n",
        "            mysql_conn.commit()\n",
        "        except mysql.connector.Error as err:\n",
        "            # Insert the problematic tweet into `data_issues` table\n",
        "            issues_insert_query = \"INSERT INTO data_issues (tweet_id, error_message) VALUES (%s, %s)\"\n",
        "            mysql_cursor.execute(issues_insert_query, (row[0], str(err)))\n",
        "            mysql_conn.commit()\n",
        "            print(f\"Error inserting tweet_id {row[0]} logged in `data_issues`.\")\n",
        "else:\n",
        "    print(\"Skipping MySQL operations due to connection failure.\")\n"
      ],
      "metadata": {
        "colab": {
          "base_uri": "https://localhost:8080/"
        },
        "id": "QC17s-T6LLpN",
        "outputId": "dd5d9314-304d-4c91-806d-5cc59c98b710"
      },
      "execution_count": 13,
      "outputs": [
        {
          "output_type": "stream",
          "name": "stdout",
          "text": [
            "Skipping MySQL operations due to connection failure.\n"
          ]
        }
      ]
    },
    {
      "cell_type": "markdown",
      "source": [
        "**Explanation:**\n",
        "\n",
        "**Simulated Error: In order to illustrate this, we introduce some error into the third row of the matrix A. It also enables you to have a view of how errors are managed or how they are recorded in the data_issues table.**\n",
        "\n",
        "**Error Logging: In case of an error, both the tweet_id and the error message are stored into MySQL database on a table named data_issues.**"
      ],
      "metadata": {
        "id": "CUFvoPHANWJs"
      }
    },
    {
      "cell_type": "code",
      "source": [
        "# Check the data in the MySQL Tweets table\n",
        "if mysql_conn:\n",
        "    try:\n",
        "        # Query to count the number of rows in the Tweets table\n",
        "        mysql_cursor.execute(\"SELECT COUNT(*) FROM Tweets\")\n",
        "        count = mysql_cursor.fetchone()[0]\n",
        "        print(f\"Total rows in the MySQL Tweets table: {count}\")\n",
        "\n",
        "        # Query to retrieve a few rows to verify the data\n",
        "        mysql_cursor.execute(\"SELECT tweet_id, airline, airline_sentiment FROM Tweets LIMIT 5\")\n",
        "        rows = mysql_cursor.fetchall()\n",
        "        print(\"Sample data from MySQL Tweets table:\")\n",
        "        for row in rows:\n",
        "            print(row)\n",
        "    except mysql.connector.Error as err:\n",
        "        print(f\"Error retrieving data from MySQL: {err}\")\n",
        "else:\n",
        "    print(\"Skipping MySQL data validation due to connection failure.\")\n"
      ],
      "metadata": {
        "colab": {
          "base_uri": "https://localhost:8080/"
        },
        "id": "v9YkAKqFNMj8",
        "outputId": "9402a972-7062-4142-d96b-b2b548ee5bfd"
      },
      "execution_count": 14,
      "outputs": [
        {
          "output_type": "stream",
          "name": "stdout",
          "text": [
            "Skipping MySQL data validation due to connection failure.\n"
          ]
        }
      ]
    },
    {
      "cell_type": "markdown",
      "source": [
        "**Explanation:**\n",
        "\n",
        "**SELECT COUNT(*): This query then takes the count of rows as a checkpoint test to ensure we believe the transfer has been completed in the Tweets table.**\n",
        "\n",
        "**Sample Data Retrieval: We select the first few rows using the SELECT statement on the Tweets table to see if the data looks ok.**"
      ],
      "metadata": {
        "id": "uKhvUAgKROOr"
      }
    },
    {
      "cell_type": "code",
      "source": [
        "import matplotlib.pyplot as plt\n",
        "\n",
        "# Perform analysis on the simulated data\n",
        "if mysql_conn:\n",
        "    try:\n",
        "        # Query to count the number of tweets per airline\n",
        "        mysql_cursor.execute(\"SELECT airline, COUNT(*) FROM Tweets GROUP BY airline\")\n",
        "        airline_counts = mysql_cursor.fetchall()\n",
        "\n",
        "        # Extracting data for plotting\n",
        "        airlines = [row[0] for row in airline_counts]\n",
        "        counts = [row[1] for row in airline_counts]\n",
        "\n",
        "        # Define a list of colors (each column gets a different color)\n",
        "        colors = ['blue', 'green', 'red', 'purple', 'orange'][:len(airlines)]\n",
        "\n",
        "        # Plot the data\n",
        "        plt.figure(figsize=(10,6))\n",
        "        plt.bar(airlines, counts, color=colors)\n",
        "        plt.xlabel('Airline')\n",
        "        plt.ylabel('Number of Tweets')\n",
        "        plt.title('Number of Tweets per Airline')\n",
        "        plt.show()\n",
        "    except mysql.connector.Error as err:\n",
        "        print(f\"Error during analysis: {err}\")\n",
        "else:\n",
        "    # Simulate analysis with the local data\n",
        "    airlines = ['Delta', 'United', 'Southwest']\n",
        "    counts = [2, 2, 1]\n",
        "\n",
        "    # Define a list of colors for the simulated data\n",
        "    colors = ['blue', 'green', 'red']\n",
        "\n",
        "    # Plot the simulated data\n",
        "    plt.figure(figsize=(10,6))\n",
        "    plt.bar(airlines, counts, color=colors)\n",
        "    plt.xlabel('Airline')\n",
        "    plt.ylabel('Number of Tweets')\n",
        "    plt.title('Number of Tweets per Airline (Simulated)')\n",
        "    plt.show()\n"
      ],
      "metadata": {
        "colab": {
          "base_uri": "https://localhost:8080/",
          "height": 564
        },
        "id": "iN1zH9jvRAZu",
        "outputId": "de015714-00f0-46d3-99d8-2aac0b3d4620"
      },
      "execution_count": 16,
      "outputs": [
        {
          "output_type": "display_data",
          "data": {
            "text/plain": [
              "<Figure size 1000x600 with 1 Axes>"
            ],
            "image/png": "[encoded data removed]"
          },
          "metadata": {}
        }
      ]
    },
    {
      "cell_type": "markdown",
      "source": [
        "**Explanation:**\n",
        "\n",
        "**Data Analysis: In this case we use GROUP BY in SQL to determine the number of tweets each airline has.**\n",
        "\n",
        "**Matplotlib Plot: The results are then visualised in a bar chart using the popular data visualisation library matplotlib and as is tradition in data science projects.**"
      ],
      "metadata": {
        "id": "Nj1Uu5KvRnzF"
      }
    },
    {
      "cell_type": "markdown",
      "source": [
        "## Conclusion\n",
        "\n",
        "In this project, we showed you how to connect with SQLite as well as with MySQL using Python’s DB-API. To be specific, we copied the above written data from the SQLite database table to MySQL database table and imitated the scenarios of occurrence of various types of errors and suggest logging the error prone rows so that they can be processed later at leisure.\n",
        "\n",
        "By conducting data validation and performing basic analysis, we were able to verify that the data had been transferred successfully, and provided a basic visualization, for instance, a number of tweet per airline.\n",
        "\n",
        "### Future Enhancements:\n",
        "1. Extend the work for airline sentiment analysis to a temporal context.\n",
        "2. For database operations handle use an ORM like SQLAlchemy to improve operations on the database.\n",
        "3. Use data obtained in external sources like data streams (for example, for tweets analysis) for dynamic examination.\n"
      ],
      "metadata": {
        "id": "uMSSZwMOSANv"
      }
    },
    {
      "cell_type": "code",
      "source": [],
      "metadata": {
        "id": "sYOUSyFBRbMU"
      },
      "execution_count": null,
      "outputs": []
    }
  ]
}